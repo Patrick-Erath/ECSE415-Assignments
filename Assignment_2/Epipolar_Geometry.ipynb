{
 "cells": [
  {
   "cell_type": "markdown",
   "metadata": {},
   "source": [
    "# Epipolar_Geometry.ipynb  \n",
    "By: Shawn Vosburg (260743167)  \n",
    "Due: November 5th, 2018  \n",
    "Course: ECSE415, McGill University  "
   ]
  },
  {
   "cell_type": "markdown",
   "metadata": {},
   "source": []
  },
  {
   "cell_type": "code",
   "execution_count": null,
   "metadata": {},
   "outputs": [],
   "source": [
    "import sys\n",
    "import re\n",
    "from struct import *\n",
    "import cv2\n",
    "import numpy as np\n",
    "from matplotlib import pyplot as plt\n",
    "\n",
    "def read_pfm(file):\n",
    "    # Adopted from https://stackoverflow.com/questions/37073108/how-to-read-pfm-files-provided-with-middlebury-dataset?rq=1\n",
    "    with open(file, \"rb\") as f:\n",
    "        # Line 1: PF=>RGB (3 channels), Pf=>Greyscale (1 channel)\n",
    "        type = f.readline().decode('latin-1')\n",
    "        if \"PF\" in type:\n",
    "            channels = 3\n",
    "        elif \"Pf\" in type:\n",
    "            channels = 1\n",
    "        else:\n",
    "            sys.exit(1)\n",
    "        # Line 2: width height\n",
    "        line = f.readline().decode('latin-1')\n",
    "        width, height = re.findall('\\d+', line)\n",
    "        width = int(width)\n",
    "        height = int(height)\n",
    "\n",
    "        # Line 3: +ve number means big endian, negative means little endian\n",
    "        line = f.readline().decode('latin-1')\n",
    "        BigEndian = True\n",
    "        if \"-\" in line:\n",
    "            BigEndian = False\n",
    "        # Slurp all binary data\n",
    "        samples = width * height * channels;\n",
    "        buffer = f.read(samples * 4)\n",
    "        # Unpack floats with appropriate endianness\n",
    "        if BigEndian:\n",
    "            fmt = \">\"\n",
    "        else:\n",
    "            fmt = \"<\"\n",
    "        fmt = fmt + str(samples) + \"f\"\n",
    "        img = unpack(fmt, buffer)\n",
    "        img = np.flipud(np.array(img).reshape(height, width))\n",
    "    return img\n",
    "\n",
    "\n",
    "#obtain images and depth map\n",
    "img0 = cv2.imread('im0.png');\n",
    "img0 = cv2.cvtColor(img0, cv2.COLOR_BGR2RGB)\n",
    "img1 = cv2.imread('im1.png');\n",
    "img1 = cv2.cvtColor(img1, cv2.COLOR_BGR2RGB)\n",
    "depthTruth = read_pfm('./disp0.pfm')\n",
    "depthTruth[depthTruth==np.inf] = 0\n",
    "\n",
    "# resize images for fast processing\n",
    "img0 = cv2.resize(img0, None, fx=0.3, fy=0.3)\n",
    "img1 = cv2.resize(img1, None, fx=0.3, fy=0.3)\n",
    "depthTruth = cv2.resize(depthTruth, None, fx=0.3, fy=0.3)\n",
    "\n",
    "\n",
    "plt.figure(figsize=(20,20))\n",
    "plt.subplot(131)\n",
    "plt.imshow(img0)\n",
    "plt.title(\"Input Image #1\"), plt.xticks([]), plt.yticks([])\n",
    "plt.subplot(132)\n",
    "plt.imshow(img1)\n",
    "plt.title(\"Input Image #2\"), plt.xticks([]), plt.yticks([])\n",
    "plt.subplot(133)\n",
    "plt.imshow(depthTruth,cmap = \"gray\")\n",
    "plt.title(\"Depth Map (Truth)\"), plt.xticks([]), plt.yticks([])\n",
    "plt.show()"
   ]
  }
 ],
 "metadata": {
  "kernelspec": {
   "display_name": "Python 3",
   "language": "python",
   "name": "python3"
  },
  "language_info": {
   "codemirror_mode": {
    "name": "ipython",
    "version": 3
   },
   "file_extension": ".py",
   "mimetype": "text/x-python",
   "name": "python",
   "nbconvert_exporter": "python",
   "pygments_lexer": "ipython3",
   "version": "3.6.5"
  }
 },
 "nbformat": 4,
 "nbformat_minor": 2
}
